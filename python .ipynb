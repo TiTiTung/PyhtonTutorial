{
 "cells": [
  {
   "cell_type": "markdown",
   "metadata": {},
   "source": [
    "# Introduction to Python for Data Science\n",
    "\n",
    "\n",
    "##### Ti-Ti Tung   \n",
    "##### Email: ken841215@gmail.com                                              "
   ]
  },
  {
   "cell_type": "markdown",
   "metadata": {},
   "source": [
    "> 該檔案為參考Datacamp的資料分析範例, 介紹範圍為：第二課：Introduction to Python for Data Science.\n",
    ">\n",
    "> 本報告小修改於微軟的教材, 由於其中我認為微軟教材在 '取值'、'欄'、'列'這三個章節講得較不完善, \n",
    ">\n",
    "> 於是我針對這幾個問題, 在下方整理出六個小章節, 教材內容大多和微軟教材相同, \n",
    ">\n",
    "> 下方所整理出來的方法及技巧是我看python的書籍所學到的。\n",
    ">\n",
    ">---\n",
    ">\n",
    "> 資策會第二課網站：https://openedx.iiiedu.org.tw/courses/course-v1:Microsoft+DAT208x+2018_T3/info\n",
    ">\n",
    "> 資料來源: https://github.com/fivethirtyeight/data/tree/master/college-majors\n"
   ]
  },
  {
   "cell_type": "markdown",
   "metadata": {},
   "source": [
    "---\n",
    ">\n",
    ">#### 第一章：資料處理                                                        \n",
    ">-  導入模組                                                                 \n",
    ">\n",
    ">- 導入資料庫（data）\n",
    "> ----\n",
    ">#### 第二章：函數\n",
    ">- 四種常用的函數介紹\n",
    ">---\n",
    ">#### 第三章：相似函數的比較\n",
    ">- 函數 min( )、nsmallest 介紹\n",
    ">\n",
    ">- 兩函數的比較\n",
    ">\n",
    ">- 範例說明\n",
    "> -----\n",
    ">#### 第四章：欄的介紹\n",
    ">- 如何新增欄\n",
    ">\n",
    ">- 取出相對小的值\n",
    ">\n",
    ">- 群組分類\n",
    ">\n",
    ">- 兩欄的運算\n",
    ">----\n",
    ">#### 第五章：取值的運算\n",
    ">- 只對欄、列取值\n",
    ">\n",
    ">- 同時對欄、 列取值\n",
    ">\n",
    ">- 取值的技巧\n",
    ">----\n",
    ">#### 第六章：資料視覺化\n",
    ">- 運算\n",
    ">\n",
    ">- 製圖\n",
    ">\n",
    ">- 顏色、標示的設定\n",
    ">\n",
    ">- 取出遺漏值"
   ]
  },
  {
   "cell_type": "markdown",
   "metadata": {},
   "source": [
    "----\n",
    "## 1. 資料處理\n",
    "    在做資料處理時, 較常使用到的兩個模組為: 1. pandas 2. numpy\n",
    ">- 1.1 導入模組、資料庫\n",
    ">- 1.2 導入資料庫\n",
    "---\n",
    "### 1.1 導入模組\n",
    "    模組: 一個很大的資料庫，我們將它導入要撰寫的程式內使用。  \n",
    ">#### 分別導入模組pandas 和 numpy\n",
    ">- import為導入程式內會使用的語法。\n",
    ">- as為導入模組時, 幫該模組取一個常用的縮寫所需要的語法。"
   ]
  },
  {
   "cell_type": "code",
   "execution_count": 6,
   "metadata": {},
   "outputs": [],
   "source": [
    "# Import pandas \n",
    "import pandas as pd\n",
    "import numpy as np"
   ]
  },
  {
   "cell_type": "markdown",
   "metadata": {},
   "source": [
    ">#### 在python裡, 模組的常用縮寫:\n",
    ">- pandas的常用縮寫為: pd\n",
    ">- numpy的常用縮寫為: np\n",
    "----\n",
    "### 1.2 讀取資料庫\n",
    ">#### 讀取資料庫需要用到:\n",
    ">- pandas\n",
    ">\n",
    "如下方程式碼顯示"
   ]
  },
  {
   "cell_type": "code",
   "execution_count": 7,
   "metadata": {},
   "outputs": [],
   "source": [
    "# Import pandas \n",
    "import pandas as pd\n",
    "import numpy as np\n",
    "\n",
    "# Use pandas to read in recent_grads_url\n",
    "recent_grads = pd.read_csv('recent_grads_url.csv')"
   ]
  },
  {
   "cell_type": "markdown",
   "metadata": {},
   "source": [
    ">- recent_grads: 檔案名 #此名稱可以自行命名。\n",
    ">\n",
    ">- pd.read_csv ( ): 使用pd模組內的函數\"read\"把資料庫讀取進來；\n",
    ">\n",
    ">>以便之後寫程式時, 回顧之前寫了哪些程式碼, 所以我們會在read函數之後加底線。\n",
    ">>\n",
    ">> 底線之後備註該資料庫的檔案型態, 才不易搞混。\n",
    ">\n",
    ">- recent_grads_url.csv : 被讀取的檔案名稱為\"recent_grads_url\"，它的檔案型態為：\"csv\"。\n",
    "----\n",
    "## 2. 函數\n",
    "    此章節會介紹第二課Introduction to Python for Data Science 裡常用的函數。\n",
    ">- 2.1 shape\n",
    ">\n",
    ">-  2.2 info( )\n",
    ">\n",
    ">- 2.3 dtypes\n",
    ">\n",
    ">- 2.4 describe( )\n",
    ">\n",
    "### 2.1 shape\n",
    "\n",
    ">- 使用函數shape來檢視此資料庫共有幾個列、幾個欄。\n",
    ">    "
   ]
  },
  {
   "cell_type": "code",
   "execution_count": 8,
   "metadata": {
    "scrolled": true
   },
   "outputs": [
    {
     "name": "stdout",
     "output_type": "stream",
     "text": [
      "(173, 21)\n"
     ]
    }
   ],
   "source": [
    "# Print the shape\n",
    "print(recent_grads.shape)"
   ]
  },
  {
   "cell_type": "markdown",
   "metadata": {},
   "source": [
    ">- 可以得此資料庫共有173筆資料(列), 每一列擁有21筆資料(欄)。\n",
    ">\n",
    ">- 該函數後方不需要加上小括號, 原因為該函數是在計算列與欄的總數。\n",
    "----\n",
    "### 2.2 info( )\n",
    "\n",
    "> 使用函數info來檢視資料可以得到兩種結果:\n",
    ">\n",
    ">- 該欄共有幾筆資料\n",
    ">\n",
    ">- 該欄的資料型態及種類"
   ]
  },
  {
   "cell_type": "code",
   "execution_count": 9,
   "metadata": {},
   "outputs": [
    {
     "name": "stdout",
     "output_type": "stream",
     "text": [
      "<class 'pandas.core.frame.DataFrame'>\n",
      "RangeIndex: 173 entries, 0 to 172\n",
      "Data columns (total 21 columns):\n",
      "rank                    173 non-null int64\n",
      "major_code              173 non-null int64\n",
      "major                   173 non-null object\n",
      "total                   172 non-null float64\n",
      "men                     172 non-null float64\n",
      "women                   172 non-null float64\n",
      "major_category          173 non-null object\n",
      "sharewomen              172 non-null float64\n",
      "sample_size             173 non-null int64\n",
      "employed                173 non-null int64\n",
      "full_time               173 non-null int64\n",
      "part_time               173 non-null int64\n",
      "full_time_year_round    173 non-null int64\n",
      "unemployed              173 non-null int64\n",
      "unemployment_rate       173 non-null float64\n",
      "median                  173 non-null int64\n",
      "p25th                   173 non-null int64\n",
      "p75th                   173 non-null int64\n",
      "college_jobs            173 non-null int64\n",
      "non_college_jobs        173 non-null int64\n",
      "low_wage_jobs           173 non-null int64\n",
      "dtypes: float64(5), int64(14), object(2)\n",
      "memory usage: 28.5+ KB\n",
      "None\n"
     ]
    }
   ],
   "source": [
    "# Print the information\n",
    "print(recent_grads.info())"
   ]
  },
  {
   "cell_type": "markdown",
   "metadata": {},
   "source": [
    "> 可以看到此資料庫種共有三種不同型態的資料:\n",
    ">\n",
    "> 分別為: 1. int 小數 2. object 名稱 3. float 數字\n",
    ">- float 和 int 後面所連接的數字(64)是代表他們屬於的類型,\n",
    ">\n",
    ">- 在做運算時, 必須要同個類型的數值才能做運算, 否則會發生錯誤。\n",
    "----\n",
    "### 2.3 dtypes\n",
    ">- 使用函數 dtype 只會得到該資料欄的類型。"
   ]
  },
  {
   "cell_type": "code",
   "execution_count": 10,
   "metadata": {
    "scrolled": true
   },
   "outputs": [
    {
     "name": "stdout",
     "output_type": "stream",
     "text": [
      "rank                      int64\n",
      "major_code                int64\n",
      "major                    object\n",
      "total                   float64\n",
      "men                     float64\n",
      "women                   float64\n",
      "major_category           object\n",
      "sharewomen              float64\n",
      "sample_size               int64\n",
      "employed                  int64\n",
      "full_time                 int64\n",
      "part_time                 int64\n",
      "full_time_year_round      int64\n",
      "unemployed                int64\n",
      "unemployment_rate       float64\n",
      "median                    int64\n",
      "p25th                     int64\n",
      "p75th                     int64\n",
      "college_jobs              int64\n",
      "non_college_jobs          int64\n",
      "low_wage_jobs             int64\n",
      "dtype: object\n"
     ]
    }
   ],
   "source": [
    "# Print .dtypes\n",
    "print(recent_grads.dtypes)"
   ]
  },
  {
   "cell_type": "markdown",
   "metadata": {},
   "source": [
    "----\n",
    "### 2.4 describe( )\n",
    ">- 函數 describe 會自動將該資料的欄八種運算。\n",
    ">\n",
    ">- 該函數的數值會自動取到小數點後六位。"
   ]
  },
  {
   "cell_type": "code",
   "execution_count": 11,
   "metadata": {},
   "outputs": [
    {
     "name": "stdout",
     "output_type": "stream",
     "text": [
      "             rank   major_code          total            men          women  \\\n",
      "count  173.000000   173.000000     172.000000     172.000000     172.000000   \n",
      "mean    87.000000  3879.815029   39370.081395   16723.406977   22646.674419   \n",
      "std     50.084928  1687.753140   63483.491009   28122.433474   41057.330740   \n",
      "min      1.000000  1100.000000     124.000000     119.000000       0.000000   \n",
      "25%     44.000000  2403.000000    4549.750000    2177.500000    1778.250000   \n",
      "50%     87.000000  3608.000000   15104.000000    5434.000000    8386.500000   \n",
      "75%    130.000000  5503.000000   38909.750000   14631.000000   22553.750000   \n",
      "max    173.000000  6403.000000  393735.000000  173809.000000  307087.000000   \n",
      "\n",
      "       sharewomen  sample_size       employed      full_time      part_time  \\\n",
      "count  172.000000   173.000000     173.000000     173.000000     173.000000   \n",
      "mean     0.522223   356.080925   31192.763006   26029.306358    8832.398844   \n",
      "std      0.231205   618.361022   50675.002241   42869.655092   14648.179473   \n",
      "min      0.000000     2.000000       0.000000     111.000000       0.000000   \n",
      "25%      0.336026    39.000000    3608.000000    3154.000000    1030.000000   \n",
      "50%      0.534024   130.000000   11797.000000   10048.000000    3299.000000   \n",
      "75%      0.703299   338.000000   31433.000000   25147.000000    9948.000000   \n",
      "max      0.968954  4212.000000  307933.000000  251540.000000  115172.000000   \n",
      "\n",
      "       full_time_year_round    unemployed  unemployment_rate         median  \\\n",
      "count            173.000000    173.000000         173.000000     173.000000   \n",
      "mean           19694.427746   2416.329480           0.068191   40151.445087   \n",
      "std            33160.941514   4112.803148           0.030331   11470.181802   \n",
      "min              111.000000      0.000000           0.000000   22000.000000   \n",
      "25%             2453.000000    304.000000           0.050306   33000.000000   \n",
      "50%             7413.000000    893.000000           0.067961   36000.000000   \n",
      "75%            16891.000000   2393.000000           0.087557   45000.000000   \n",
      "max           199897.000000  28169.000000           0.177226  110000.000000   \n",
      "\n",
      "              p25th          p75th   college_jobs  non_college_jobs  \\\n",
      "count    173.000000     173.000000     173.000000        173.000000   \n",
      "mean   29501.445087   51494.219653   12322.635838      13284.497110   \n",
      "std     9166.005235   14906.279740   21299.868863      23789.655363   \n",
      "min    18500.000000   22000.000000       0.000000          0.000000   \n",
      "25%    24000.000000   42000.000000    1675.000000       1591.000000   \n",
      "50%    27000.000000   47000.000000    4390.000000       4595.000000   \n",
      "75%    33000.000000   60000.000000   14444.000000      11783.000000   \n",
      "max    95000.000000  125000.000000  151643.000000     148395.000000   \n",
      "\n",
      "       low_wage_jobs  \n",
      "count     173.000000  \n",
      "mean     3859.017341  \n",
      "std      6944.998579  \n",
      "min         0.000000  \n",
      "25%       340.000000  \n",
      "50%      1231.000000  \n",
      "75%      3466.000000  \n",
      "max     48207.000000  \n"
     ]
    }
   ],
   "source": [
    "# Output summary statistics\n",
    "print(recent_grads.describe())"
   ]
  },
  {
   "cell_type": "markdown",
   "metadata": {},
   "source": [
    ">#### 八種運算：\n",
    ">\n",
    ">- count: 計算有幾個欄。\n",
    ">\n",
    ">- mean: 計算該欄的平均數。\n",
    ">\n",
    ">- std: 計算標準差。\n",
    ">\n",
    ">- min: 取該欄的最小值。\n",
    ">\n",
    ">- max: 取該欄的最大值。\n",
    ">\n",
    ">- 25%: 計算四分位數中的第一位數(數值由小到大排列后第25%的數字), 稱為：Q1。\n",
    ">\n",
    ">- 50%: 計算四分位數中的第二位數, 稱為：Q2, 又稱為：中位數。\n",
    ">\n",
    ">- 75%: 計算四分位數中的第三位數(數值由小到大排列后第75%的數字), 稱為：Q3。\n",
    "----\n",
    "## 3. 相似函數\n",
    "     此章節會對於相似函數做詳細的講解及使用。\n",
    ">- 3.1 介紹函數 min( ) 、 nsmallest\n",
    ">\n",
    ">- 3.2 函數比較\n",
    ">\n",
    ">- 3.3 範例說明\n",
    "----\n",
    "### 3.1.1 min (  )\n",
    ">- 此函數用在取最小值。\n",
    ">\n",
    ">   在一個 list 中使用 min 函數, 只能得到一個值。"
   ]
  },
  {
   "cell_type": "code",
   "execution_count": 12,
   "metadata": {
    "scrolled": false
   },
   "outputs": [
    {
     "name": "stdout",
     "output_type": "stream",
     "text": [
      "124.0\n"
     ]
    }
   ],
   "source": [
    "print(min(recent_grads['total']))"
   ]
  },
  {
   "cell_type": "markdown",
   "metadata": {},
   "source": [
    "> 由上方運算的結果可以得知, 在 \"recent_grads\" 資料庫中,  \"college_jobs\"  為最小值。\n",
    "----\n",
    "### 3.1.2 nsmallest\n",
    ">- 此函數也是用在取最小值。\n",
    ">\n",
    ">  只不過它與 min( ) 最大的不同是, 它可以取出最小的三個值（要取幾個可以自行做設定）。"
   ]
  },
  {
   "cell_type": "code",
   "execution_count": 13,
   "metadata": {},
   "outputs": [
    {
     "name": "stdout",
     "output_type": "stream",
     "text": [
      "     rank  major_code                                   major  total    men  \\\n",
      "73     74        3801                   MILITARY TECHNOLOGIES  124.0  124.0   \n",
      "52     53        4005        MATHEMATICS AND COMPUTER SCIENCE  609.0  500.0   \n",
      "112   113        1106                            SOIL SCIENCE  685.0  476.0   \n",
      "33     34        2411  GEOLOGICAL AND GEOPHYSICAL ENGINEERING  720.0  488.0   \n",
      "1       2        2416          MINING AND MINERAL ENGINEERING  756.0  679.0   \n",
      "\n",
      "     women                       major_category  sharewomen  sample_size  \\\n",
      "73     0.0  Industrial Arts & Consumer Services    0.000000            4   \n",
      "52   109.0              Computers & Mathematics    0.178982            7   \n",
      "112  209.0      Agriculture & Natural Resources    0.305109            4   \n",
      "33   232.0                          Engineering    0.322222            5   \n",
      "1     77.0                          Engineering    0.101852            7   \n",
      "\n",
      "     employed      ...        part_time  full_time_year_round  unemployed  \\\n",
      "73          0      ...                0                   111           0   \n",
      "52        559      ...                0                   391           0   \n",
      "112       613      ...              185                   383           0   \n",
      "33        604      ...              126                   396          49   \n",
      "1         640      ...              170                   388          85   \n",
      "\n",
      "     unemployment_rate  median  p25th  p75th  college_jobs  non_college_jobs  \\\n",
      "73            0.000000   40000  40000  40000             0                 0   \n",
      "52            0.000000   42000  30000  78000           452                67   \n",
      "112           0.000000   35000  18500  44000           355               144   \n",
      "33            0.075038   50000  42800  57000           501                50   \n",
      "1             0.117241   75000  55000  90000           350               257   \n",
      "\n",
      "     low_wage_jobs  \n",
      "73               0  \n",
      "52              25  \n",
      "112              0  \n",
      "33              49  \n",
      "1               50  \n",
      "\n",
      "[5 rows x 21 columns]\n"
     ]
    }
   ],
   "source": [
    "import numpy as np\n",
    "print(recent_grads.nsmallest(5, 'total'))"
   ]
  },
  {
   "cell_type": "markdown",
   "metadata": {},
   "source": [
    "    以下是步驟說明：\n",
    ">#### import numpy as np \n",
    ">- 步驟一：此函數是 numpy 模組內的一個函數, 所以我們先導入模組。\n",
    ">\n",
    ">#### nsmallest(5, 'total')\n",
    ">\n",
    ">- 步驟二：可以看到小括弧內的 5, 意思是：我要取五個值。\n",
    ">\n",
    ">   假使我今天要取 8 個相對想得值, 那就再 5 的地方改成 8 。\n",
    ">\n",
    ">#### nsmallest(5, 'total')\n",
    ">\n",
    ">-  步驟三： 可以看到小括弧內的 'total', 意思是：我要對 total 取出相對小的五個值。\n",
    "----\n",
    "### 3.2 函數比較\n",
    "    由 3.1.1 及 3.1.2 結果顯示可以得知：\n",
    ">-  函數 min( ) 只能得到一個結果。\n",
    ">\n",
    ">- 函數 nsmallest 可以得到相對小的五個值, 而此結果會把值所對應的每個欄都列出。\n",
    "----\n",
    "### 3.3 範例說明\n",
    "    今天老師要用總成績, 在班上找出倒數三名的學生。\n",
    ">- 使用函數 min( ) 時,\n",
    ">\n",
    ">  只得到最後第一名的總成績而已, 無法得到倒數三名的總成績, 更無法知道他們分別是誰。\n",
    ">\n",
    ">#### 反之\n",
    ">\n",
    ">- 使用函數 nsmallest 時,\n",
    ">\n",
    ">  我們可以得到最後三名的總成績外, 我們還可以知道他們每一科的成績分別是多少, 和他們分別是誰。\n",
    "----\n",
    "## 4. 欄的介紹\n",
    " 此章節Datacamp的教學中, 我認為的教法沒有很完整, 講解的沒有清楚, 反而會讓初學者難以學習。\n",
    " \n",
    " 此章節將為我個人自學之後, 所整理的重點。\n",
    "\n",
    ">- 4.1 新增欄 ['sharemen']  、 ['gender_diff']\n",
    ">\n",
    ">- 4.2 取出相對小的五個職\n",
    ">\n",
    ">- 4.3 groupby\n",
    ">\n",
    ">- 4.4 兩欄的運算\n",
    "----\n",
    "### 4.1 新增欄\n",
    ">- 使用中括號 [ ] \n",
    ">\n",
    ">- 新增欄的名字要使用“”來命名\n",
    "----\n",
    "### 4.1.1 新增欄的名稱：sharemen\n",
    ">- 新增一個欄, 就像新增一個 list 一樣, 所以使用中括號 [ ]\n",
    "\n"
   ]
  },
  {
   "cell_type": "code",
   "execution_count": 11,
   "metadata": {},
   "outputs": [],
   "source": [
    "# Add sharemen column\n",
    "recent_grads['sharemen'] = recent_grads['men'] / recent_grads['total']"
   ]
  },
  {
   "cell_type": "markdown",
   "metadata": {},
   "source": [
    "> 在上方程式碼中可以得知, 我們將新增的欄 [sharemen] 定義為:\n",
    ">    \n",
    "> 引用本來資料庫中的 [men] 欄與 [total] 欄, 做相除。"
   ]
  },
  {
   "cell_type": "markdown",
   "metadata": {},
   "source": [
    "----\n",
    "### 4.1.2 新增欄的名稱：gender_diff"
   ]
  },
  {
   "cell_type": "code",
   "execution_count": 12,
   "metadata": {},
   "outputs": [],
   "source": [
    "# Add gender_diff column\n",
    "recent_grads['gender_diff'] = recent_grads['sharewomen'] - recent_grads['sharemen'] "
   ]
  },
  {
   "cell_type": "markdown",
   "metadata": {},
   "source": [
    "> 在上方程式碼可以得知, 我們將新增的欄 [“gender_diff”] 定義為: \n",
    ">\n",
    "> 引用本來資料庫中的 [“sharewomen”] 欄與 [“sharemen”] 欄, 做相減。\n",
    "----\n",
    "### 4.2 取出相對小的五個值\n",
    "    要使用到 numpy 模組內的函數\n",
    ">- 模組 numpy\n",
    ">\n",
    ">- 函數： np.abs(  ) 和 nsmallest(  ,  )"
   ]
  },
  {
   "cell_type": "code",
   "execution_count": 13,
   "metadata": {},
   "outputs": [
    {
     "name": "stdout",
     "output_type": "stream",
     "text": [
      "     rank  major_code                                          major  \\\n",
      "139   140        4101  PHYSICAL FITNESS PARKS RECREATION AND LEISURE   \n",
      "102   103        5503                                    CRIMINOLOGY   \n",
      "74     75        5003                                      CHEMISTRY   \n",
      "146   147        6002                                          MUSIC   \n",
      "117   118        2311    SOCIAL SCIENCE OR HISTORY TEACHER EDUCATION   \n",
      "\n",
      "        total      men    women                       major_category  \\\n",
      "139  125074.0  62181.0  62893.0  Industrial Arts & Consumer Services   \n",
      "102   19879.0  10031.0   9848.0                       Social Science   \n",
      "74    66530.0  32923.0  33607.0                    Physical Sciences   \n",
      "146   60633.0  29909.0  30724.0                                 Arts   \n",
      "117   20198.0   9950.0  10248.0                            Education   \n",
      "\n",
      "     sharewomen  sample_size  employed     ...       unemployed  \\\n",
      "139    0.502846         1014    103078     ...             5593   \n",
      "102    0.495397          214     16181     ...             1743   \n",
      "74     0.505141          353     48535     ...             2769   \n",
      "146    0.506721          419     47662     ...             3918   \n",
      "117    0.507377          157     17700     ...             1012   \n",
      "\n",
      "     unemployment_rate  median  p25th  p75th  college_jobs  non_college_jobs  \\\n",
      "139           0.051467   32000  24000  43000         27581             63946   \n",
      "102           0.097244   35000  25000  45000          3373             10605   \n",
      "74            0.053972   39000  30000  49900         30382             14718   \n",
      "146           0.075960   31000  22300  42000         13752             28786   \n",
      "117           0.054083   34000  23050  42000         10928              5561   \n",
      "\n",
      "     low_wage_jobs  sharemen  gender_diff  \n",
      "139          16838  0.497154     0.005693  \n",
      "102           1895  0.504603     0.009206  \n",
      "74            4288  0.494859     0.010281  \n",
      "146           9286  0.493279     0.013442  \n",
      "117           1806  0.492623     0.014754  \n",
      "\n",
      "[5 rows x 23 columns]\n"
     ]
    }
   ],
   "source": [
    "# Make all gender difference values positive\n",
    "recent_grads['gender_diff'] = np.abs(recent_grads['gender_diff'])\n",
    "\n",
    "# Find the 5 rows with lowest gender rate difference\n",
    "print(recent_grads.nsmallest(5, 'gender_diff'))"
   ]
  },
  {
   "cell_type": "markdown",
   "metadata": {},
   "source": [
    "首先我們先分成兩步驟\n",
    ">\n",
    ">#### recent_grads['gender_diff'] = np.abs(recent_grads['gender_diff'])\n",
    ">\n",
    ">- 步驟一: 先把 ['gender_diff'] 這個欄重新做定義, 將每個數值都定義成正整數。\n",
    ">\n",
    ">  該步驟要使用 numpy 模組內的函數abs ( ) , 來將負數變成整數, 才能取出相對正確的五個值。\n",
    ">\n",
    ">####  < 現在該函數裡所有的數值都轉換成正整數 >\n",
    ">\n",
    ">#### recent_grads.nsmallest(5, 'gender_diff')\n",
    ">\n",
    ">- 步驟二: 在此資料庫裡, 從欄位 gender_diff 中選出最小的五個數值。\n",
    ">\n",
    ">  該步驟要使用 numpy 模組內的函數 smallest ( ),\n",
    "> \n",
    ">  函數的括弧內, 我們將第一個位子 ( python稱為“0” ) 內放入5 ( 取五位 )\n",
    "----\n",
    "### 4.3 groupby\n",
    ">- 該函數為先將資料庫做分類週後, 再對它做計算    "
   ]
  },
  {
   "cell_type": "code",
   "execution_count": 14,
   "metadata": {
    "scrolled": false
   },
   "outputs": [
    {
     "name": "stdout",
     "output_type": "stream",
     "text": [
      "major_category\n",
      "Agriculture & Natural Resources        10\n",
      "Arts                                    8\n",
      "Biology & Life Science                 14\n",
      "Business                               13\n",
      "Communications & Journalism             4\n",
      "Computers & Mathematics                11\n",
      "Education                              16\n",
      "Engineering                            29\n",
      "Health                                 12\n",
      "Humanities & Liberal Arts              15\n",
      "Industrial Arts & Consumer Services     7\n",
      "Interdisciplinary                       1\n",
      "Law & Public Policy                     5\n",
      "Physical Sciences                      10\n",
      "Psychology & Social Work                9\n",
      "Social Science                          9\n",
      "Name: major_category, dtype: int64\n"
     ]
    }
   ],
   "source": [
    "# Group by major category and count\n",
    "# recent_grads.groupby(by = 'major_category').major_category.count()\n",
    "print(recent_grads.groupby(['major_category']).major_category.count())\n"
   ]
  },
  {
   "cell_type": "markdown",
   "metadata": {},
   "source": [
    "以上方的例子來說, 我們將它分為兩個步驟來講解。\n",
    ">\n",
    ">#### recent_grads.groupby(['major_category'])\n",
    ">\n",
    ">- 步驟一: 先將資料庫 recent_grads 裡的 ['major_category'] 欄位, 做分類。\n",
    ">\n",
    ">  此欄位在講學科, 函數 groupby 會將一樣的學科擺在一起。\n",
    ">\n",
    ">#### < 現在該資料已經分類好了 > \n",
    ">\n",
    ">#### major_category.count( )\n",
    ">\n",
    ">- 步驟二: 再對以分類好的資料, 再做數量的加總。\n",
    "----\n",
    "### 4.4 兩欄的運算\n",
    ">- groupby 分類後, 我們也可以選取兩個欄, 來做運算。"
   ]
  },
  {
   "cell_type": "code",
   "execution_count": 15,
   "metadata": {
    "scrolled": true
   },
   "outputs": [
    {
     "name": "stdout",
     "output_type": "stream",
     "text": [
      "                                     low_wage_jobs  unemployment_rate\n",
      "major_category                                                       \n",
      "Agriculture & Natural Resources         789.900000           0.056328\n",
      "Arts                                   7514.500000           0.090173\n",
      "Biology & Life Science                 3053.000000           0.060918\n",
      "Business                               9752.923077           0.071064\n",
      "Communications & Journalism           12398.750000           0.075538\n",
      "Computers & Mathematics                1466.909091           0.084256\n",
      "Education                              2554.375000           0.051702\n",
      "Engineering                             864.793103           0.063334\n",
      "Health                                 2605.833333           0.065920\n",
      "Humanities & Liberal Arts              6282.666667           0.081008\n",
      "Industrial Arts & Consumer Services    3798.571429           0.048071\n",
      "Interdisciplinary                      1061.000000           0.070861\n",
      "Law & Public Policy                    4144.000000           0.090805\n",
      "Physical Sciences                      1407.800000           0.046511\n",
      "Psychology & Social Work               6249.555556           0.072065\n",
      "Social Science                         6020.000000           0.095729\n"
     ]
    }
   ],
   "source": [
    "# Find average unemployment rate and number of low wage jobs of each major category\n",
    "dept_stats = recent_grads.groupby(['major_category'])['low_wage_jobs', 'unemployment_rate'].mean()\n",
    "print(dept_stats)"
   ]
  },
  {
   "cell_type": "code",
   "execution_count": 16,
   "metadata": {
    "scrolled": false
   },
   "outputs": [
    {
     "name": "stdout",
     "output_type": "stream",
     "text": [
      "major_category\n",
      "Agriculture & Natural Resources         34491\n",
      "Arts                                   163720\n",
      "Biology & Life Science                 127182\n",
      "Business                               496570\n",
      "Communications & Journalism            172992\n",
      "Computers & Mathematics                 74463\n",
      "Education                              121761\n",
      "Engineering                            102383\n",
      "Health                                 110496\n",
      "Humanities & Liberal Arts              276532\n",
      "Industrial Arts & Consumer Services    104620\n",
      "Interdisciplinary                        3903\n",
      "Law & Public Policy                    100024\n",
      "Physical Sciences                       49469\n",
      "Psychology & Social Work               169366\n",
      "Social Science                         190246\n",
      "Name: non_college_jobs, dtype: int64\n"
     ]
    }
   ],
   "source": [
    "# 可以用 \"[]\" and \"Dataframe.(column名稱)\"\n",
    "\n",
    "# \"Dataframe.(column名稱)\"\n",
    "df = recent_grads.groupby(by = \"major_category\").non_college_jobs.sum()\n",
    "print(df)"
   ]
  },
  {
   "cell_type": "markdown",
   "metadata": {},
   "source": [
    "我們一樣將上方的程式碼分成兩個步驟來看：\n",
    ">\n",
    ">#### dept_stats = recent_grads.groupby(['major_category'])\n",
    ">\n",
    ">- 步驟一： 對資料庫裡的 ['major_category'] 欄位, 用 groupby 將裡面相同的資料分類在一起。\n",
    ">\n",
    ">####   <  現在, ['major_category'] 欄位中的資料都已經分類完成。 >\n",
    ">\n",
    ">#### ['low_wage_jobs', 'unemployment_rate'].mean()\n",
    ">\n",
    ">- 步驟二: 選取我們要運算的欄, 欄一  ['low_wage_jobs'] , 欄二 ['unemployment_rate'] , 後面接函數 mean()。\n",
    ">\n",
    ">   此時後面的函數, 會分別對欄一和欄二做每一組的平均數。\n",
    ">\n",
    "    \n",
    "    在第三章節, 將會對於一次選曲兩欄做教學。\n",
    "----\n",
    "## 5. 取值的運算\n",
    "    此章節會介紹如何分別在 欄 、 列 裡取值, 以及同時取 欄 與 列 的值。\n",
    "\n",
    ">- 5.1 欄的取值\n",
    ">\n",
    ">- 5.2 列的取值\n",
    ">\n",
    ">- 5.3 同時取欄、列的值\n",
    ">\n",
    ">- 5.4 取值的技巧\n",
    "----\n",
    "### 5.1 欄的取值\n",
    ">- 第一種：用 “ 點 . ” 來連接被取值的欄位名稱\n",
    ">\n",
    ">- 第二種：用 “ 中括號  [ \" \" ] ” 把被取值的欄位名稱放在裡面\n",
    "----\n",
    "### 5.1.1 (  ).column名稱"
   ]
  },
  {
   "cell_type": "code",
   "execution_count": 53,
   "metadata": {},
   "outputs": [
    {
     "name": "stdout",
     "output_type": "stream",
     "text": [
      "major_category\n",
      "Agriculture & Natural Resources         33217\n",
      "Arts                                   163720\n",
      "Biology & Life Science                 127182\n",
      "Business                               496570\n",
      "Communications & Journalism            172992\n",
      "Computers & Mathematics                 74463\n",
      "Education                              121761\n",
      "Engineering                            102383\n",
      "Health                                 110496\n",
      "Humanities & Liberal Arts              276532\n",
      "Industrial Arts & Consumer Services    104620\n",
      "Interdisciplinary                        3903\n",
      "Law & Public Policy                    100024\n",
      "Physical Sciences                       49469\n",
      "Psychology & Social Work               169366\n",
      "Social Science                         190246\n",
      "Name: non_college_jobs, dtype: int64\n"
     ]
    }
   ],
   "source": [
    "# 可以用 \"[]\" and \"Dataframe.(column名稱)\"\n",
    "\n",
    "# \"Dataframe.(column名稱)\"\n",
    "df = recent_grads.groupby(by = \"major_category\").non_college_jobs.sum()\n",
    "print(df)"
   ]
  },
  {
   "cell_type": "markdown",
   "metadata": {},
   "source": [
    "----\n",
    "### 5.1.2  [ \" column名稱 \" ]"
   ]
  },
  {
   "cell_type": "code",
   "execution_count": 17,
   "metadata": {
    "scrolled": true
   },
   "outputs": [
    {
     "name": "stdout",
     "output_type": "stream",
     "text": [
      "major_category\n",
      "Agriculture & Natural Resources         34491\n",
      "Arts                                   163720\n",
      "Biology & Life Science                 127182\n",
      "Business                               496570\n",
      "Communications & Journalism            172992\n",
      "Computers & Mathematics                 74463\n",
      "Education                              121761\n",
      "Engineering                            102383\n",
      "Health                                 110496\n",
      "Humanities & Liberal Arts              276532\n",
      "Industrial Arts & Consumer Services    104620\n",
      "Interdisciplinary                        3903\n",
      "Law & Public Policy                    100024\n",
      "Physical Sciences                       49469\n",
      "Psychology & Social Work               169366\n",
      "Social Science                         190246\n",
      "Name: non_college_jobs, dtype: int64\n"
     ]
    }
   ],
   "source": [
    "# \"[]\"\n",
    "df = recent_grads.groupby(by = \"major_category\")[\"non_college_jobs\"].sum()\n",
    "print(df)"
   ]
  },
  {
   "cell_type": "markdown",
   "metadata": {},
   "source": [
    "----\n",
    "### 5.1.3 選取兩個以上的欄\n",
    ">- 選取 兩個 或 兩個以上 的columns 時,  只能用 中括號 [  ] 來選取, 也就是說以list形式選取資料。"
   ]
  },
  {
   "cell_type": "code",
   "execution_count": 18,
   "metadata": {},
   "outputs": [
    {
     "name": "stdout",
     "output_type": "stream",
     "text": [
      "                                     college_jobs  non_college_jobs\n",
      "major_category                                                     \n",
      "Agriculture & Natural Resources             19860             34491\n",
      "Arts                                        94785            163720\n",
      "Biology & Life Science                     151233            127182\n",
      "Business                                   148538            496570\n",
      "Communications & Journalism                 86556            172992\n",
      "Computers & Mathematics                    137859             74463\n",
      "Education                                  338713            121761\n",
      "Engineering                                269767            102383\n",
      "Health                                     245441            110496\n",
      "Humanities & Liberal Arts                  192650            276532\n",
      "Industrial Arts & Consumer Services         57200            104620\n",
      "Interdisciplinary                            5176              3903\n",
      "Law & Public Policy                         29221            100024\n",
      "Physical Sciences                           76552             49469\n",
      "Psychology & Social Work                   164305            169366\n",
      "Social Science                             113960            190246\n"
     ]
    }
   ],
   "source": [
    " # 只能使用 \"[]\"\n",
    "df1 = recent_grads.groupby(['major_category'])['college_jobs','non_college_jobs'].sum()\n",
    "print(df1)"
   ]
  },
  {
   "cell_type": "markdown",
   "metadata": {},
   "source": [
    "    也可以取已經分類過的欄位裡的兩個做運算, 如下面的範例："
   ]
  },
  {
   "cell_type": "code",
   "execution_count": 19,
   "metadata": {},
   "outputs": [
    {
     "name": "stdout",
     "output_type": "stream",
     "text": [
      "                                     college_jobs  non_college_jobs\n",
      "major_category                                                     \n",
      "Agriculture & Natural Resources             19860             34491\n",
      "Arts                                        94785            163720\n",
      "Biology & Life Science                     151233            127182\n",
      "Business                                   148538            496570\n",
      "Communications & Journalism                 86556            172992\n",
      "Computers & Mathematics                    137859             74463\n",
      "Education                                  338713            121761\n",
      "Engineering                                269767            102383\n",
      "Health                                     245441            110496\n",
      "Humanities & Liberal Arts                  192650            276532\n",
      "Industrial Arts & Consumer Services         57200            104620\n",
      "Interdisciplinary                            5176              3903\n",
      "Law & Public Policy                         29221            100024\n",
      "Physical Sciences                           76552             49469\n",
      "Psychology & Social Work                   164305            169366\n",
      "Social Science                             113960            190246\n"
     ]
    }
   ],
   "source": [
    "df1 = recent_grads.groupby(['major_category'])[df1.columns[0],df1.columns[1]].sum()\n",
    "print(df1)"
   ]
  },
  {
   "cell_type": "markdown",
   "metadata": {},
   "source": [
    "----\n",
    "\n",
    "### 5.2 列的取值\n",
    "    現在我們想選曲df1裡面的rows, 有幾種辦法？\n",
    ">- 1. 以'編號'來選 (例如：我想要選第2個到4個)\n",
    ">- 2. 以'名稱'來選 (例如：我想要選'Arts', 'Business'兩個row)"
   ]
  },
  {
   "cell_type": "code",
   "execution_count": 20,
   "metadata": {},
   "outputs": [
    {
     "data": {
      "text/html": [
       "<div>\n",
       "<style scoped>\n",
       "    .dataframe tbody tr th:only-of-type {\n",
       "        vertical-align: middle;\n",
       "    }\n",
       "\n",
       "    .dataframe tbody tr th {\n",
       "        vertical-align: top;\n",
       "    }\n",
       "\n",
       "    .dataframe thead th {\n",
       "        text-align: right;\n",
       "    }\n",
       "</style>\n",
       "<table border=\"1\" class=\"dataframe\">\n",
       "  <thead>\n",
       "    <tr style=\"text-align: right;\">\n",
       "      <th></th>\n",
       "      <th>college_jobs</th>\n",
       "      <th>non_college_jobs</th>\n",
       "    </tr>\n",
       "    <tr>\n",
       "      <th>major_category</th>\n",
       "      <th></th>\n",
       "      <th></th>\n",
       "    </tr>\n",
       "  </thead>\n",
       "  <tbody>\n",
       "    <tr>\n",
       "      <th>Agriculture &amp; Natural Resources</th>\n",
       "      <td>19860</td>\n",
       "      <td>34491</td>\n",
       "    </tr>\n",
       "    <tr>\n",
       "      <th>Arts</th>\n",
       "      <td>94785</td>\n",
       "      <td>163720</td>\n",
       "    </tr>\n",
       "    <tr>\n",
       "      <th>Biology &amp; Life Science</th>\n",
       "      <td>151233</td>\n",
       "      <td>127182</td>\n",
       "    </tr>\n",
       "    <tr>\n",
       "      <th>Business</th>\n",
       "      <td>148538</td>\n",
       "      <td>496570</td>\n",
       "    </tr>\n",
       "    <tr>\n",
       "      <th>Communications &amp; Journalism</th>\n",
       "      <td>86556</td>\n",
       "      <td>172992</td>\n",
       "    </tr>\n",
       "  </tbody>\n",
       "</table>\n",
       "</div>"
      ],
      "text/plain": [
       "                                 college_jobs  non_college_jobs\n",
       "major_category                                                 \n",
       "Agriculture & Natural Resources         19860             34491\n",
       "Arts                                    94785            163720\n",
       "Biology & Life Science                 151233            127182\n",
       "Business                               148538            496570\n",
       "Communications & Journalism             86556            172992"
      ]
     },
     "execution_count": 20,
     "metadata": {},
     "output_type": "execute_result"
    }
   ],
   "source": [
    "# 再看一眼data\n",
    "df1.head()"
   ]
  },
  {
   "cell_type": "markdown",
   "metadata": {},
   "source": [
    "----\n",
    "### 5.2.1. 以 '編號' 來選\n",
    ">- 使用中括號 [ : ]\n",
    ">- 注意在python中, 中括號後面的編號是不被取的"
   ]
  },
  {
   "cell_type": "code",
   "execution_count": 21,
   "metadata": {},
   "outputs": [
    {
     "data": {
      "text/html": [
       "<div>\n",
       "<style scoped>\n",
       "    .dataframe tbody tr th:only-of-type {\n",
       "        vertical-align: middle;\n",
       "    }\n",
       "\n",
       "    .dataframe tbody tr th {\n",
       "        vertical-align: top;\n",
       "    }\n",
       "\n",
       "    .dataframe thead th {\n",
       "        text-align: right;\n",
       "    }\n",
       "</style>\n",
       "<table border=\"1\" class=\"dataframe\">\n",
       "  <thead>\n",
       "    <tr style=\"text-align: right;\">\n",
       "      <th></th>\n",
       "      <th>college_jobs</th>\n",
       "      <th>non_college_jobs</th>\n",
       "    </tr>\n",
       "    <tr>\n",
       "      <th>major_category</th>\n",
       "      <th></th>\n",
       "      <th></th>\n",
       "    </tr>\n",
       "  </thead>\n",
       "  <tbody>\n",
       "    <tr>\n",
       "      <th>Arts</th>\n",
       "      <td>94785</td>\n",
       "      <td>163720</td>\n",
       "    </tr>\n",
       "    <tr>\n",
       "      <th>Biology &amp; Life Science</th>\n",
       "      <td>151233</td>\n",
       "      <td>127182</td>\n",
       "    </tr>\n",
       "    <tr>\n",
       "      <th>Business</th>\n",
       "      <td>148538</td>\n",
       "      <td>496570</td>\n",
       "    </tr>\n",
       "  </tbody>\n",
       "</table>\n",
       "</div>"
      ],
      "text/plain": [
       "                        college_jobs  non_college_jobs\n",
       "major_category                                        \n",
       "Arts                           94785            163720\n",
       "Biology & Life Science        151233            127182\n",
       "Business                      148538            496570"
      ]
     },
     "execution_count": 21,
     "metadata": {},
     "output_type": "execute_result"
    }
   ],
   "source": [
    "df1[1:4]"
   ]
  },
  {
   "cell_type": "markdown",
   "metadata": {},
   "source": [
    "----\n",
    "### 5.2.2. 以 '名稱' 來選\n",
    "    用名稱來選取有三個方法：\n",
    ">- 5.2.2.1 只選一個row (3種方法)\n",
    ">- 5.2.2.2 選取兩個row (2種方法)\n",
    "----\n",
    "### 5.2.3 只選一個row (3種方法)\n",
    "#### dataname.loc[\"rowname\"]\n",
    ">- 以這個方式取出來的值, 較不整齊。"
   ]
  },
  {
   "cell_type": "code",
   "execution_count": 22,
   "metadata": {},
   "outputs": [
    {
     "data": {
      "text/plain": [
       "college_jobs         94785\n",
       "non_college_jobs    163720\n",
       "Name: Arts, dtype: int64"
      ]
     },
     "execution_count": 22,
     "metadata": {},
     "output_type": "execute_result"
    }
   ],
   "source": [
    "df1.loc[\"Arts\"]"
   ]
  },
  {
   "cell_type": "markdown",
   "metadata": {},
   "source": [
    "#### dataname.loc[[\"rowname\"]]\n",
    ">- 以這個方式取出來的值, 相對整齊。"
   ]
  },
  {
   "cell_type": "code",
   "execution_count": 23,
   "metadata": {
    "scrolled": true
   },
   "outputs": [
    {
     "data": {
      "text/html": [
       "<div>\n",
       "<style scoped>\n",
       "    .dataframe tbody tr th:only-of-type {\n",
       "        vertical-align: middle;\n",
       "    }\n",
       "\n",
       "    .dataframe tbody tr th {\n",
       "        vertical-align: top;\n",
       "    }\n",
       "\n",
       "    .dataframe thead th {\n",
       "        text-align: right;\n",
       "    }\n",
       "</style>\n",
       "<table border=\"1\" class=\"dataframe\">\n",
       "  <thead>\n",
       "    <tr style=\"text-align: right;\">\n",
       "      <th></th>\n",
       "      <th>college_jobs</th>\n",
       "      <th>non_college_jobs</th>\n",
       "    </tr>\n",
       "    <tr>\n",
       "      <th>major_category</th>\n",
       "      <th></th>\n",
       "      <th></th>\n",
       "    </tr>\n",
       "  </thead>\n",
       "  <tbody>\n",
       "    <tr>\n",
       "      <th>Arts</th>\n",
       "      <td>94785</td>\n",
       "      <td>163720</td>\n",
       "    </tr>\n",
       "  </tbody>\n",
       "</table>\n",
       "</div>"
      ],
      "text/plain": [
       "                college_jobs  non_college_jobs\n",
       "major_category                                \n",
       "Arts                   94785            163720"
      ]
     },
     "execution_count": 23,
     "metadata": {},
     "output_type": "execute_result"
    }
   ],
   "source": [
    "df1.loc[[\"Arts\"]]"
   ]
  },
  {
   "cell_type": "markdown",
   "metadata": {},
   "source": [
    "#### dataname.loc[[\"rowname\"], ]\n",
    ">- 此方法和上方的結果相同, 只是寫法不同。"
   ]
  },
  {
   "cell_type": "code",
   "execution_count": 24,
   "metadata": {},
   "outputs": [
    {
     "data": {
      "text/html": [
       "<div>\n",
       "<style scoped>\n",
       "    .dataframe tbody tr th:only-of-type {\n",
       "        vertical-align: middle;\n",
       "    }\n",
       "\n",
       "    .dataframe tbody tr th {\n",
       "        vertical-align: top;\n",
       "    }\n",
       "\n",
       "    .dataframe thead th {\n",
       "        text-align: right;\n",
       "    }\n",
       "</style>\n",
       "<table border=\"1\" class=\"dataframe\">\n",
       "  <thead>\n",
       "    <tr style=\"text-align: right;\">\n",
       "      <th></th>\n",
       "      <th>college_jobs</th>\n",
       "      <th>non_college_jobs</th>\n",
       "    </tr>\n",
       "    <tr>\n",
       "      <th>major_category</th>\n",
       "      <th></th>\n",
       "      <th></th>\n",
       "    </tr>\n",
       "  </thead>\n",
       "  <tbody>\n",
       "    <tr>\n",
       "      <th>Arts</th>\n",
       "      <td>94785</td>\n",
       "      <td>163720</td>\n",
       "    </tr>\n",
       "  </tbody>\n",
       "</table>\n",
       "</div>"
      ],
      "text/plain": [
       "                college_jobs  non_college_jobs\n",
       "major_category                                \n",
       "Arts                   94785            163720"
      ]
     },
     "execution_count": 24,
     "metadata": {},
     "output_type": "execute_result"
    }
   ],
   "source": [
    "df1.loc[[\"Arts\"], ]"
   ]
  },
  {
   "cell_type": "markdown",
   "metadata": {},
   "source": [
    "----\n",
    "### 5.2.4 選取兩個row (2種方法)\n",
    ">- 選取兩個row時, 只能用雙中括號來選取。\n",
    "----\n",
    "#### dataname.loc[[\"row1name\", \"row2name\"]]"
   ]
  },
  {
   "cell_type": "code",
   "execution_count": 25,
   "metadata": {
    "scrolled": true
   },
   "outputs": [
    {
     "data": {
      "text/html": [
       "<div>\n",
       "<style scoped>\n",
       "    .dataframe tbody tr th:only-of-type {\n",
       "        vertical-align: middle;\n",
       "    }\n",
       "\n",
       "    .dataframe tbody tr th {\n",
       "        vertical-align: top;\n",
       "    }\n",
       "\n",
       "    .dataframe thead th {\n",
       "        text-align: right;\n",
       "    }\n",
       "</style>\n",
       "<table border=\"1\" class=\"dataframe\">\n",
       "  <thead>\n",
       "    <tr style=\"text-align: right;\">\n",
       "      <th></th>\n",
       "      <th>college_jobs</th>\n",
       "      <th>non_college_jobs</th>\n",
       "    </tr>\n",
       "    <tr>\n",
       "      <th>major_category</th>\n",
       "      <th></th>\n",
       "      <th></th>\n",
       "    </tr>\n",
       "  </thead>\n",
       "  <tbody>\n",
       "    <tr>\n",
       "      <th>Arts</th>\n",
       "      <td>94785</td>\n",
       "      <td>163720</td>\n",
       "    </tr>\n",
       "    <tr>\n",
       "      <th>Business</th>\n",
       "      <td>148538</td>\n",
       "      <td>496570</td>\n",
       "    </tr>\n",
       "  </tbody>\n",
       "</table>\n",
       "</div>"
      ],
      "text/plain": [
       "                college_jobs  non_college_jobs\n",
       "major_category                                \n",
       "Arts                   94785            163720\n",
       "Business              148538            496570"
      ]
     },
     "execution_count": 25,
     "metadata": {},
     "output_type": "execute_result"
    }
   ],
   "source": [
    "df1.loc[[\"Arts\", \"Business\"]]"
   ]
  },
  {
   "cell_type": "markdown",
   "metadata": {},
   "source": [
    "----\n",
    "#### dataname.loc[[\"row1name\", \"row2name\"], ]\n",
    ">- 此結果與上方的相同, 只是寫法不同。"
   ]
  },
  {
   "cell_type": "code",
   "execution_count": 26,
   "metadata": {},
   "outputs": [
    {
     "data": {
      "text/html": [
       "<div>\n",
       "<style scoped>\n",
       "    .dataframe tbody tr th:only-of-type {\n",
       "        vertical-align: middle;\n",
       "    }\n",
       "\n",
       "    .dataframe tbody tr th {\n",
       "        vertical-align: top;\n",
       "    }\n",
       "\n",
       "    .dataframe thead th {\n",
       "        text-align: right;\n",
       "    }\n",
       "</style>\n",
       "<table border=\"1\" class=\"dataframe\">\n",
       "  <thead>\n",
       "    <tr style=\"text-align: right;\">\n",
       "      <th></th>\n",
       "      <th>college_jobs</th>\n",
       "      <th>non_college_jobs</th>\n",
       "    </tr>\n",
       "    <tr>\n",
       "      <th>major_category</th>\n",
       "      <th></th>\n",
       "      <th></th>\n",
       "    </tr>\n",
       "  </thead>\n",
       "  <tbody>\n",
       "    <tr>\n",
       "      <th>Arts</th>\n",
       "      <td>94785</td>\n",
       "      <td>163720</td>\n",
       "    </tr>\n",
       "    <tr>\n",
       "      <th>Business</th>\n",
       "      <td>148538</td>\n",
       "      <td>496570</td>\n",
       "    </tr>\n",
       "  </tbody>\n",
       "</table>\n",
       "</div>"
      ],
      "text/plain": [
       "                college_jobs  non_college_jobs\n",
       "major_category                                \n",
       "Arts                   94785            163720\n",
       "Business              148538            496570"
      ]
     },
     "execution_count": 26,
     "metadata": {},
     "output_type": "execute_result"
    }
   ],
   "source": [
    "df1.loc[[\"Arts\", \"Business\"],]"
   ]
  },
  {
   "cell_type": "markdown",
   "metadata": {},
   "source": [
    "----\n",
    "\n",
    "## 5.3 同時取欄、列的值\n",
    "    column如果不加括號, 資料型態會成 pandas.core.frame.DataFrame 轉為 pandas.core.series.Series\n",
    "\n",
    ">- 網路教學：https://zhuanlan.zhihu.com/p/35012884\n",
    "----\n",
    "#### dataname.loc[[\"row1- name\", \"row2- name\"],[column-name]"
   ]
  },
  {
   "cell_type": "code",
   "execution_count": 27,
   "metadata": {},
   "outputs": [
    {
     "data": {
      "text/plain": [
       "pandas.core.frame.DataFrame"
      ]
     },
     "execution_count": 27,
     "metadata": {},
     "output_type": "execute_result"
    }
   ],
   "source": [
    "# 資料型態會成 pandas.core.frame.DataFrame 轉為 pandas.core.series.Series\n",
    "type(df1.loc[[\"Arts\", \"Business\"],['college_jobs']])"
   ]
  },
  {
   "cell_type": "markdown",
   "metadata": {},
   "source": [
    "#### dataname.loc[[\"row1- name\", \"row2- name\"], 'column-name'"
   ]
  },
  {
   "cell_type": "code",
   "execution_count": 28,
   "metadata": {},
   "outputs": [
    {
     "data": {
      "text/plain": [
       "pandas.core.series.Series"
      ]
     },
     "execution_count": 28,
     "metadata": {},
     "output_type": "execute_result"
    }
   ],
   "source": [
    "type(df1.loc[[\"Arts\", \"Business\"],'college_jobs'])"
   ]
  },
  {
   "cell_type": "markdown",
   "metadata": {},
   "source": [
    ">- column如果不加括號, 資料型態會從 pandas.core.frame.DataFrame 轉為 pandas.core.series.Series\n",
    "----\n",
    "#### datamana[ 編號 ][['column- name']]\n",
    ">- 此寫法會使資料的結果較整齊。"
   ]
  },
  {
   "cell_type": "code",
   "execution_count": 29,
   "metadata": {
    "scrolled": true
   },
   "outputs": [
    {
     "data": {
      "text/html": [
       "<div>\n",
       "<style scoped>\n",
       "    .dataframe tbody tr th:only-of-type {\n",
       "        vertical-align: middle;\n",
       "    }\n",
       "\n",
       "    .dataframe tbody tr th {\n",
       "        vertical-align: top;\n",
       "    }\n",
       "\n",
       "    .dataframe thead th {\n",
       "        text-align: right;\n",
       "    }\n",
       "</style>\n",
       "<table border=\"1\" class=\"dataframe\">\n",
       "  <thead>\n",
       "    <tr style=\"text-align: right;\">\n",
       "      <th></th>\n",
       "      <th>college_jobs</th>\n",
       "    </tr>\n",
       "    <tr>\n",
       "      <th>major_category</th>\n",
       "      <th></th>\n",
       "    </tr>\n",
       "  </thead>\n",
       "  <tbody>\n",
       "    <tr>\n",
       "      <th>Arts</th>\n",
       "      <td>94785</td>\n",
       "    </tr>\n",
       "    <tr>\n",
       "      <th>Biology &amp; Life Science</th>\n",
       "      <td>151233</td>\n",
       "    </tr>\n",
       "    <tr>\n",
       "      <th>Business</th>\n",
       "      <td>148538</td>\n",
       "    </tr>\n",
       "    <tr>\n",
       "      <th>Communications &amp; Journalism</th>\n",
       "      <td>86556</td>\n",
       "    </tr>\n",
       "    <tr>\n",
       "      <th>Computers &amp; Mathematics</th>\n",
       "      <td>137859</td>\n",
       "    </tr>\n",
       "  </tbody>\n",
       "</table>\n",
       "</div>"
      ],
      "text/plain": [
       "                             college_jobs\n",
       "major_category                           \n",
       "Arts                                94785\n",
       "Biology & Life Science             151233\n",
       "Business                           148538\n",
       "Communications & Journalism         86556\n",
       "Computers & Mathematics            137859"
      ]
     },
     "execution_count": 29,
     "metadata": {},
     "output_type": "execute_result"
    }
   ],
   "source": [
    "df1[1:6][['college_jobs']]"
   ]
  },
  {
   "cell_type": "markdown",
   "metadata": {},
   "source": [
    "#### datamana[ 編號 ]['column- name']\n",
    ">- 此寫法會使資料結果較不整齊。"
   ]
  },
  {
   "cell_type": "code",
   "execution_count": 30,
   "metadata": {},
   "outputs": [
    {
     "data": {
      "text/plain": [
       "major_category\n",
       "Arts                            94785\n",
       "Biology & Life Science         151233\n",
       "Business                       148538\n",
       "Communications & Journalism     86556\n",
       "Computers & Mathematics        137859\n",
       "Name: college_jobs, dtype: int64"
      ]
     },
     "execution_count": 30,
     "metadata": {},
     "output_type": "execute_result"
    }
   ],
   "source": [
    "df1[1:6]['college_jobs']"
   ]
  },
  {
   "cell_type": "markdown",
   "metadata": {},
   "source": [
    "#### datamana[[\"column1-name\", \"column2- name\", \"column3- name\", \"column4- name\"], ['column- name']]"
   ]
  },
  {
   "cell_type": "code",
   "execution_count": 31,
   "metadata": {},
   "outputs": [
    {
     "data": {
      "text/html": [
       "<div>\n",
       "<style scoped>\n",
       "    .dataframe tbody tr th:only-of-type {\n",
       "        vertical-align: middle;\n",
       "    }\n",
       "\n",
       "    .dataframe tbody tr th {\n",
       "        vertical-align: top;\n",
       "    }\n",
       "\n",
       "    .dataframe thead th {\n",
       "        text-align: right;\n",
       "    }\n",
       "</style>\n",
       "<table border=\"1\" class=\"dataframe\">\n",
       "  <thead>\n",
       "    <tr style=\"text-align: right;\">\n",
       "      <th></th>\n",
       "      <th>college_jobs</th>\n",
       "    </tr>\n",
       "    <tr>\n",
       "      <th>major_category</th>\n",
       "      <th></th>\n",
       "    </tr>\n",
       "  </thead>\n",
       "  <tbody>\n",
       "    <tr>\n",
       "      <th>Arts</th>\n",
       "      <td>94785</td>\n",
       "    </tr>\n",
       "    <tr>\n",
       "      <th>Business</th>\n",
       "      <td>148538</td>\n",
       "    </tr>\n",
       "    <tr>\n",
       "      <th>Biology &amp; Life Science</th>\n",
       "      <td>151233</td>\n",
       "    </tr>\n",
       "    <tr>\n",
       "      <th>Communications &amp; Journalism</th>\n",
       "      <td>86556</td>\n",
       "    </tr>\n",
       "  </tbody>\n",
       "</table>\n",
       "</div>"
      ],
      "text/plain": [
       "                             college_jobs\n",
       "major_category                           \n",
       "Arts                                94785\n",
       "Business                           148538\n",
       "Biology & Life Science             151233\n",
       "Communications & Journalism         86556"
      ]
     },
     "execution_count": 31,
     "metadata": {},
     "output_type": "execute_result"
    }
   ],
   "source": [
    "df1.loc[[\"Arts\", \"Business\", \"Biology & Life Science\", \"Communications & Journalism\"],['college_jobs']]"
   ]
  },
  {
   "cell_type": "markdown",
   "metadata": {},
   "source": [
    "#### datamana[[\"column1-name\", \"column2- name\", \"column3- name\", \"column4- name\"], 'column- name']"
   ]
  },
  {
   "cell_type": "code",
   "execution_count": 32,
   "metadata": {},
   "outputs": [
    {
     "data": {
      "text/plain": [
       "major_category\n",
       "Arts                            94785\n",
       "Business                       148538\n",
       "Biology & Life Science         151233\n",
       "Communications & Journalism     86556\n",
       "Name: college_jobs, dtype: int64"
      ]
     },
     "execution_count": 32,
     "metadata": {},
     "output_type": "execute_result"
    }
   ],
   "source": [
    "df1.loc[[\"Arts\", \"Business\", \"Biology & Life Science\", \"Communications & Journalism\"],'college_jobs']"
   ]
  },
  {
   "cell_type": "markdown",
   "metadata": {},
   "source": [
    "----\n",
    "\n",
    "## 5.4 取值的訣竅\n",
    "\n",
    "    每一次取值時, 都要輸入column的名稱相對麻煩許多！！若直接使用數字來選取值會相對方便。\n",
    "    \n",
    "> 在前面的範例中, 不管用什麼方式來取值, 都沒有直接指定第幾行、第幾列, 但是唯有這個函數能夠解決此問題。\n",
    ">\n",
    ">- 函數： ' Dataframe.iloc '\n",
    "----"
   ]
  },
  {
   "cell_type": "code",
   "execution_count": 33,
   "metadata": {},
   "outputs": [
    {
     "data": {
      "text/html": [
       "<div>\n",
       "<style scoped>\n",
       "    .dataframe tbody tr th:only-of-type {\n",
       "        vertical-align: middle;\n",
       "    }\n",
       "\n",
       "    .dataframe tbody tr th {\n",
       "        vertical-align: top;\n",
       "    }\n",
       "\n",
       "    .dataframe thead th {\n",
       "        text-align: right;\n",
       "    }\n",
       "</style>\n",
       "<table border=\"1\" class=\"dataframe\">\n",
       "  <thead>\n",
       "    <tr style=\"text-align: right;\">\n",
       "      <th></th>\n",
       "      <th>rank</th>\n",
       "      <th>major_code</th>\n",
       "      <th>major</th>\n",
       "      <th>total</th>\n",
       "      <th>men</th>\n",
       "      <th>women</th>\n",
       "      <th>major_category</th>\n",
       "      <th>sharewomen</th>\n",
       "      <th>sample_size</th>\n",
       "      <th>employed</th>\n",
       "      <th>...</th>\n",
       "      <th>unemployed</th>\n",
       "      <th>unemployment_rate</th>\n",
       "      <th>median</th>\n",
       "      <th>p25th</th>\n",
       "      <th>p75th</th>\n",
       "      <th>college_jobs</th>\n",
       "      <th>non_college_jobs</th>\n",
       "      <th>low_wage_jobs</th>\n",
       "      <th>sharemen</th>\n",
       "      <th>gender_diff</th>\n",
       "    </tr>\n",
       "  </thead>\n",
       "  <tbody>\n",
       "    <tr>\n",
       "      <th>0</th>\n",
       "      <td>1</td>\n",
       "      <td>2419</td>\n",
       "      <td>PETROLEUM ENGINEERING</td>\n",
       "      <td>2339.0</td>\n",
       "      <td>2057.0</td>\n",
       "      <td>282.0</td>\n",
       "      <td>Engineering</td>\n",
       "      <td>0.120564</td>\n",
       "      <td>36</td>\n",
       "      <td>1976</td>\n",
       "      <td>...</td>\n",
       "      <td>37</td>\n",
       "      <td>0.018381</td>\n",
       "      <td>110000</td>\n",
       "      <td>95000</td>\n",
       "      <td>125000</td>\n",
       "      <td>1534</td>\n",
       "      <td>364</td>\n",
       "      <td>193</td>\n",
       "      <td>0.879436</td>\n",
       "      <td>0.758871</td>\n",
       "    </tr>\n",
       "    <tr>\n",
       "      <th>1</th>\n",
       "      <td>2</td>\n",
       "      <td>2416</td>\n",
       "      <td>MINING AND MINERAL ENGINEERING</td>\n",
       "      <td>756.0</td>\n",
       "      <td>679.0</td>\n",
       "      <td>77.0</td>\n",
       "      <td>Engineering</td>\n",
       "      <td>0.101852</td>\n",
       "      <td>7</td>\n",
       "      <td>640</td>\n",
       "      <td>...</td>\n",
       "      <td>85</td>\n",
       "      <td>0.117241</td>\n",
       "      <td>75000</td>\n",
       "      <td>55000</td>\n",
       "      <td>90000</td>\n",
       "      <td>350</td>\n",
       "      <td>257</td>\n",
       "      <td>50</td>\n",
       "      <td>0.898148</td>\n",
       "      <td>0.796296</td>\n",
       "    </tr>\n",
       "    <tr>\n",
       "      <th>2</th>\n",
       "      <td>3</td>\n",
       "      <td>2415</td>\n",
       "      <td>METALLURGICAL ENGINEERING</td>\n",
       "      <td>856.0</td>\n",
       "      <td>725.0</td>\n",
       "      <td>131.0</td>\n",
       "      <td>Engineering</td>\n",
       "      <td>0.153037</td>\n",
       "      <td>3</td>\n",
       "      <td>648</td>\n",
       "      <td>...</td>\n",
       "      <td>16</td>\n",
       "      <td>0.024096</td>\n",
       "      <td>73000</td>\n",
       "      <td>50000</td>\n",
       "      <td>105000</td>\n",
       "      <td>456</td>\n",
       "      <td>176</td>\n",
       "      <td>0</td>\n",
       "      <td>0.846963</td>\n",
       "      <td>0.693925</td>\n",
       "    </tr>\n",
       "    <tr>\n",
       "      <th>3</th>\n",
       "      <td>4</td>\n",
       "      <td>2417</td>\n",
       "      <td>NAVAL ARCHITECTURE AND MARINE ENGINEERING</td>\n",
       "      <td>1258.0</td>\n",
       "      <td>1123.0</td>\n",
       "      <td>135.0</td>\n",
       "      <td>Engineering</td>\n",
       "      <td>0.107313</td>\n",
       "      <td>16</td>\n",
       "      <td>758</td>\n",
       "      <td>...</td>\n",
       "      <td>40</td>\n",
       "      <td>0.050125</td>\n",
       "      <td>70000</td>\n",
       "      <td>43000</td>\n",
       "      <td>80000</td>\n",
       "      <td>529</td>\n",
       "      <td>102</td>\n",
       "      <td>0</td>\n",
       "      <td>0.892687</td>\n",
       "      <td>0.785374</td>\n",
       "    </tr>\n",
       "    <tr>\n",
       "      <th>4</th>\n",
       "      <td>5</td>\n",
       "      <td>2405</td>\n",
       "      <td>CHEMICAL ENGINEERING</td>\n",
       "      <td>32260.0</td>\n",
       "      <td>21239.0</td>\n",
       "      <td>11021.0</td>\n",
       "      <td>Engineering</td>\n",
       "      <td>0.341631</td>\n",
       "      <td>289</td>\n",
       "      <td>25694</td>\n",
       "      <td>...</td>\n",
       "      <td>1672</td>\n",
       "      <td>0.061098</td>\n",
       "      <td>65000</td>\n",
       "      <td>50000</td>\n",
       "      <td>75000</td>\n",
       "      <td>18314</td>\n",
       "      <td>4440</td>\n",
       "      <td>972</td>\n",
       "      <td>0.658369</td>\n",
       "      <td>0.316739</td>\n",
       "    </tr>\n",
       "  </tbody>\n",
       "</table>\n",
       "<p>5 rows × 23 columns</p>\n",
       "</div>"
      ],
      "text/plain": [
       "   rank  major_code                                      major    total  \\\n",
       "0     1        2419                      PETROLEUM ENGINEERING   2339.0   \n",
       "1     2        2416             MINING AND MINERAL ENGINEERING    756.0   \n",
       "2     3        2415                  METALLURGICAL ENGINEERING    856.0   \n",
       "3     4        2417  NAVAL ARCHITECTURE AND MARINE ENGINEERING   1258.0   \n",
       "4     5        2405                       CHEMICAL ENGINEERING  32260.0   \n",
       "\n",
       "       men    women major_category  sharewomen  sample_size  employed  \\\n",
       "0   2057.0    282.0    Engineering    0.120564           36      1976   \n",
       "1    679.0     77.0    Engineering    0.101852            7       640   \n",
       "2    725.0    131.0    Engineering    0.153037            3       648   \n",
       "3   1123.0    135.0    Engineering    0.107313           16       758   \n",
       "4  21239.0  11021.0    Engineering    0.341631          289     25694   \n",
       "\n",
       "      ...       unemployed  unemployment_rate  median  p25th   p75th  \\\n",
       "0     ...               37           0.018381  110000  95000  125000   \n",
       "1     ...               85           0.117241   75000  55000   90000   \n",
       "2     ...               16           0.024096   73000  50000  105000   \n",
       "3     ...               40           0.050125   70000  43000   80000   \n",
       "4     ...             1672           0.061098   65000  50000   75000   \n",
       "\n",
       "   college_jobs  non_college_jobs  low_wage_jobs  sharemen  gender_diff  \n",
       "0          1534               364            193  0.879436     0.758871  \n",
       "1           350               257             50  0.898148     0.796296  \n",
       "2           456               176              0  0.846963     0.693925  \n",
       "3           529               102              0  0.892687     0.785374  \n",
       "4         18314              4440            972  0.658369     0.316739  \n",
       "\n",
       "[5 rows x 23 columns]"
      ]
     },
     "execution_count": 33,
     "metadata": {},
     "output_type": "execute_result"
    }
   ],
   "source": [
    "# 再看一次資料\n",
    "recent_grads.head()"
   ]
  },
  {
   "cell_type": "code",
   "execution_count": 34,
   "metadata": {},
   "outputs": [
    {
     "data": {
      "text/plain": [
       "(173, 23)"
      ]
     },
     "execution_count": 34,
     "metadata": {},
     "output_type": "execute_result"
    }
   ],
   "source": [
    "recent_grads.shape"
   ]
  },
  {
   "cell_type": "markdown",
   "metadata": {},
   "source": [
    "    只用函數 iloc[  :  ,  :  ] 之後, 我們可以直接使用數子來取值。"
   ]
  },
  {
   "cell_type": "code",
   "execution_count": 35,
   "metadata": {},
   "outputs": [
    {
     "data": {
      "text/html": [
       "<div>\n",
       "<style scoped>\n",
       "    .dataframe tbody tr th:only-of-type {\n",
       "        vertical-align: middle;\n",
       "    }\n",
       "\n",
       "    .dataframe tbody tr th {\n",
       "        vertical-align: top;\n",
       "    }\n",
       "\n",
       "    .dataframe thead th {\n",
       "        text-align: right;\n",
       "    }\n",
       "</style>\n",
       "<table border=\"1\" class=\"dataframe\">\n",
       "  <thead>\n",
       "    <tr style=\"text-align: right;\">\n",
       "      <th></th>\n",
       "      <th>median</th>\n",
       "      <th>p25th</th>\n",
       "      <th>p75th</th>\n",
       "      <th>college_jobs</th>\n",
       "      <th>non_college_jobs</th>\n",
       "      <th>low_wage_jobs</th>\n",
       "      <th>sharemen</th>\n",
       "      <th>gender_diff</th>\n",
       "    </tr>\n",
       "  </thead>\n",
       "  <tbody>\n",
       "    <tr>\n",
       "      <th>50</th>\n",
       "      <td>44000</td>\n",
       "      <td>30000</td>\n",
       "      <td>50000</td>\n",
       "      <td>482</td>\n",
       "      <td>844</td>\n",
       "      <td>245</td>\n",
       "      <td>0.825877</td>\n",
       "      <td>0.651755</td>\n",
       "    </tr>\n",
       "    <tr>\n",
       "      <th>51</th>\n",
       "      <td>42000</td>\n",
       "      <td>30000</td>\n",
       "      <td>65000</td>\n",
       "      <td>2091</td>\n",
       "      <td>6948</td>\n",
       "      <td>1270</td>\n",
       "      <td>0.072193</td>\n",
       "      <td>0.855614</td>\n",
       "    </tr>\n",
       "    <tr>\n",
       "      <th>52</th>\n",
       "      <td>42000</td>\n",
       "      <td>30000</td>\n",
       "      <td>78000</td>\n",
       "      <td>452</td>\n",
       "      <td>67</td>\n",
       "      <td>25</td>\n",
       "      <td>0.821018</td>\n",
       "      <td>0.642036</td>\n",
       "    </tr>\n",
       "    <tr>\n",
       "      <th>53</th>\n",
       "      <td>41300</td>\n",
       "      <td>20000</td>\n",
       "      <td>46000</td>\n",
       "      <td>2024</td>\n",
       "      <td>1033</td>\n",
       "      <td>263</td>\n",
       "      <td>0.730806</td>\n",
       "      <td>0.461612</td>\n",
       "    </tr>\n",
       "    <tr>\n",
       "      <th>54</th>\n",
       "      <td>41000</td>\n",
       "      <td>20000</td>\n",
       "      <td>60000</td>\n",
       "      <td>1369</td>\n",
       "      <td>921</td>\n",
       "      <td>135</td>\n",
       "      <td>0.435134</td>\n",
       "      <td>0.129731</td>\n",
       "    </tr>\n",
       "    <tr>\n",
       "      <th>55</th>\n",
       "      <td>41000</td>\n",
       "      <td>41000</td>\n",
       "      <td>43000</td>\n",
       "      <td>509</td>\n",
       "      <td>221</td>\n",
       "      <td>0</td>\n",
       "      <td>0.145477</td>\n",
       "      <td>0.709046</td>\n",
       "    </tr>\n",
       "    <tr>\n",
       "      <th>56</th>\n",
       "      <td>40100</td>\n",
       "      <td>31200</td>\n",
       "      <td>53000</td>\n",
       "      <td>6774</td>\n",
       "      <td>9570</td>\n",
       "      <td>2499</td>\n",
       "      <td>0.367013</td>\n",
       "      <td>0.265974</td>\n",
       "    </tr>\n",
       "    <tr>\n",
       "      <th>57</th>\n",
       "      <td>40000</td>\n",
       "      <td>30000</td>\n",
       "      <td>55000</td>\n",
       "      <td>29334</td>\n",
       "      <td>100831</td>\n",
       "      <td>27320</td>\n",
       "      <td>0.563698</td>\n",
       "      <td>0.127397</td>\n",
       "    </tr>\n",
       "    <tr>\n",
       "      <th>58</th>\n",
       "      <td>40000</td>\n",
       "      <td>31000</td>\n",
       "      <td>50000</td>\n",
       "      <td>16178</td>\n",
       "      <td>13724</td>\n",
       "      <td>4221</td>\n",
       "      <td>0.548535</td>\n",
       "      <td>0.097070</td>\n",
       "    </tr>\n",
       "    <tr>\n",
       "      <th>59</th>\n",
       "      <td>40000</td>\n",
       "      <td>30000</td>\n",
       "      <td>50000</td>\n",
       "      <td>3383</td>\n",
       "      <td>9482</td>\n",
       "      <td>3046</td>\n",
       "      <td>0.410288</td>\n",
       "      <td>0.179424</td>\n",
       "    </tr>\n",
       "    <tr>\n",
       "      <th>60</th>\n",
       "      <td>40000</td>\n",
       "      <td>20000</td>\n",
       "      <td>90000</td>\n",
       "      <td>11573</td>\n",
       "      <td>4493</td>\n",
       "      <td>1121</td>\n",
       "      <td>0.369284</td>\n",
       "      <td>0.261433</td>\n",
       "    </tr>\n",
       "    <tr>\n",
       "      <th>61</th>\n",
       "      <td>40000</td>\n",
       "      <td>29000</td>\n",
       "      <td>47000</td>\n",
       "      <td>7225</td>\n",
       "      <td>3145</td>\n",
       "      <td>1168</td>\n",
       "      <td>0.405792</td>\n",
       "      <td>0.188415</td>\n",
       "    </tr>\n",
       "    <tr>\n",
       "      <th>62</th>\n",
       "      <td>40000</td>\n",
       "      <td>30000</td>\n",
       "      <td>51000</td>\n",
       "      <td>2236</td>\n",
       "      <td>8937</td>\n",
       "      <td>1758</td>\n",
       "      <td>0.573076</td>\n",
       "      <td>0.146153</td>\n",
       "    </tr>\n",
       "  </tbody>\n",
       "</table>\n",
       "</div>"
      ],
      "text/plain": [
       "    median  p25th  p75th  college_jobs  non_college_jobs  low_wage_jobs  \\\n",
       "50   44000  30000  50000           482               844            245   \n",
       "51   42000  30000  65000          2091              6948           1270   \n",
       "52   42000  30000  78000           452                67             25   \n",
       "53   41300  20000  46000          2024              1033            263   \n",
       "54   41000  20000  60000          1369               921            135   \n",
       "55   41000  41000  43000           509               221              0   \n",
       "56   40100  31200  53000          6774              9570           2499   \n",
       "57   40000  30000  55000         29334            100831          27320   \n",
       "58   40000  31000  50000         16178             13724           4221   \n",
       "59   40000  30000  50000          3383              9482           3046   \n",
       "60   40000  20000  90000         11573              4493           1121   \n",
       "61   40000  29000  47000          7225              3145           1168   \n",
       "62   40000  30000  51000          2236              8937           1758   \n",
       "\n",
       "    sharemen  gender_diff  \n",
       "50  0.825877     0.651755  \n",
       "51  0.072193     0.855614  \n",
       "52  0.821018     0.642036  \n",
       "53  0.730806     0.461612  \n",
       "54  0.435134     0.129731  \n",
       "55  0.145477     0.709046  \n",
       "56  0.367013     0.265974  \n",
       "57  0.563698     0.127397  \n",
       "58  0.548535     0.097070  \n",
       "59  0.410288     0.179424  \n",
       "60  0.369284     0.261433  \n",
       "61  0.405792     0.188415  \n",
       "62  0.573076     0.146153  "
      ]
     },
     "execution_count": 35,
     "metadata": {},
     "output_type": "execute_result"
    }
   ],
   "source": [
    "recent_grads.iloc[ 50:63 , 15:23]"
   ]
  },
  {
   "cell_type": "markdown",
   "metadata": {},
   "source": [
    "### 選取單筆資料\n",
    "    例如選取第 20、30、50、99 筆資料, [20, 30, 50, 99], 由於都是單點資料, 所以要用 [ ] 以list型態表示。"
   ]
  },
  {
   "cell_type": "code",
   "execution_count": 36,
   "metadata": {},
   "outputs": [
    {
     "data": {
      "text/html": [
       "<div>\n",
       "<style scoped>\n",
       "    .dataframe tbody tr th:only-of-type {\n",
       "        vertical-align: middle;\n",
       "    }\n",
       "\n",
       "    .dataframe tbody tr th {\n",
       "        vertical-align: top;\n",
       "    }\n",
       "\n",
       "    .dataframe thead th {\n",
       "        text-align: right;\n",
       "    }\n",
       "</style>\n",
       "<table border=\"1\" class=\"dataframe\">\n",
       "  <thead>\n",
       "    <tr style=\"text-align: right;\">\n",
       "      <th></th>\n",
       "      <th>median</th>\n",
       "      <th>p25th</th>\n",
       "      <th>p75th</th>\n",
       "      <th>college_jobs</th>\n",
       "      <th>non_college_jobs</th>\n",
       "      <th>low_wage_jobs</th>\n",
       "      <th>sharemen</th>\n",
       "      <th>gender_diff</th>\n",
       "    </tr>\n",
       "  </thead>\n",
       "  <tbody>\n",
       "    <tr>\n",
       "      <th>20</th>\n",
       "      <td>53000</td>\n",
       "      <td>39000</td>\n",
       "      <td>70000</td>\n",
       "      <td>68622</td>\n",
       "      <td>25667</td>\n",
       "      <td>5144</td>\n",
       "      <td>0.777305</td>\n",
       "      <td>0.554610</td>\n",
       "    </tr>\n",
       "    <tr>\n",
       "      <th>30</th>\n",
       "      <td>50000</td>\n",
       "      <td>42000</td>\n",
       "      <td>56000</td>\n",
       "      <td>2028</td>\n",
       "      <td>830</td>\n",
       "      <td>260</td>\n",
       "      <td>0.657771</td>\n",
       "      <td>0.315542</td>\n",
       "    </tr>\n",
       "    <tr>\n",
       "      <th>50</th>\n",
       "      <td>44000</td>\n",
       "      <td>30000</td>\n",
       "      <td>50000</td>\n",
       "      <td>482</td>\n",
       "      <td>844</td>\n",
       "      <td>245</td>\n",
       "      <td>0.825877</td>\n",
       "      <td>0.651755</td>\n",
       "    </tr>\n",
       "    <tr>\n",
       "      <th>99</th>\n",
       "      <td>35000</td>\n",
       "      <td>24500</td>\n",
       "      <td>44000</td>\n",
       "      <td>8465</td>\n",
       "      <td>11818</td>\n",
       "      <td>3677</td>\n",
       "      <td>0.280141</td>\n",
       "      <td>0.439718</td>\n",
       "    </tr>\n",
       "  </tbody>\n",
       "</table>\n",
       "</div>"
      ],
      "text/plain": [
       "    median  p25th  p75th  college_jobs  non_college_jobs  low_wage_jobs  \\\n",
       "20   53000  39000  70000         68622             25667           5144   \n",
       "30   50000  42000  56000          2028               830            260   \n",
       "50   44000  30000  50000           482               844            245   \n",
       "99   35000  24500  44000          8465             11818           3677   \n",
       "\n",
       "    sharemen  gender_diff  \n",
       "20  0.777305     0.554610  \n",
       "30  0.657771     0.315542  \n",
       "50  0.825877     0.651755  \n",
       "99  0.280141     0.439718  "
      ]
     },
     "execution_count": 36,
     "metadata": {},
     "output_type": "execute_result"
    }
   ],
   "source": [
    "recent_grads.iloc[ [20, 30, 50, 99] , 15:23]"
   ]
  },
  {
   "cell_type": "markdown",
   "metadata": {},
   "source": [
    "    但是在 iloc選取 column 時, 只能輸入字串。"
   ]
  },
  {
   "cell_type": "code",
   "execution_count": 37,
   "metadata": {},
   "outputs": [
    {
     "data": {
      "text/html": [
       "<div>\n",
       "<style scoped>\n",
       "    .dataframe tbody tr th:only-of-type {\n",
       "        vertical-align: middle;\n",
       "    }\n",
       "\n",
       "    .dataframe tbody tr th {\n",
       "        vertical-align: top;\n",
       "    }\n",
       "\n",
       "    .dataframe thead th {\n",
       "        text-align: right;\n",
       "    }\n",
       "</style>\n",
       "<table border=\"1\" class=\"dataframe\">\n",
       "  <thead>\n",
       "    <tr style=\"text-align: right;\">\n",
       "      <th></th>\n",
       "      <th>median</th>\n",
       "      <th>p25th</th>\n",
       "      <th>non_college_jobs</th>\n",
       "    </tr>\n",
       "  </thead>\n",
       "  <tbody>\n",
       "    <tr>\n",
       "      <th>50</th>\n",
       "      <td>44000</td>\n",
       "      <td>30000</td>\n",
       "      <td>844</td>\n",
       "    </tr>\n",
       "    <tr>\n",
       "      <th>51</th>\n",
       "      <td>42000</td>\n",
       "      <td>30000</td>\n",
       "      <td>6948</td>\n",
       "    </tr>\n",
       "    <tr>\n",
       "      <th>52</th>\n",
       "      <td>42000</td>\n",
       "      <td>30000</td>\n",
       "      <td>67</td>\n",
       "    </tr>\n",
       "    <tr>\n",
       "      <th>53</th>\n",
       "      <td>41300</td>\n",
       "      <td>20000</td>\n",
       "      <td>1033</td>\n",
       "    </tr>\n",
       "    <tr>\n",
       "      <th>54</th>\n",
       "      <td>41000</td>\n",
       "      <td>20000</td>\n",
       "      <td>921</td>\n",
       "    </tr>\n",
       "    <tr>\n",
       "      <th>55</th>\n",
       "      <td>41000</td>\n",
       "      <td>41000</td>\n",
       "      <td>221</td>\n",
       "    </tr>\n",
       "  </tbody>\n",
       "</table>\n",
       "</div>"
      ],
      "text/plain": [
       "    median  p25th  non_college_jobs\n",
       "50   44000  30000               844\n",
       "51   42000  30000              6948\n",
       "52   42000  30000                67\n",
       "53   41300  20000              1033\n",
       "54   41000  20000               921\n",
       "55   41000  41000               221"
      ]
     },
     "execution_count": 37,
     "metadata": {},
     "output_type": "execute_result"
    }
   ],
   "source": [
    "recent_grads.loc[ 50:55, [\"median\", \"p25th\", 'non_college_jobs']]"
   ]
  },
  {
   "cell_type": "markdown",
   "metadata": {},
   "source": [
    "----\n",
    "# 6. 資料視覺化\n",
    "    把dept_stats獨立成兩個變數, 之後計算比較方便\n",
    "\n",
    "> 網路教學：http://pandas.pydata.org/pandas-docs/stable/user_guide/visualization.html\n",
    ">- 6.1 整理資料\n",
    ">- 6.2 製圖\n",
    ">- \n",
    "\n",
    "----\n",
    "### 6.1.1 選取兩個欄做平均\n",
    ">- 可以一次選曲兩個欄, 計算平均之後, 再分別列出它們的結果"
   ]
  },
  {
   "cell_type": "code",
   "execution_count": 38,
   "metadata": {
    "scrolled": true
   },
   "outputs": [
    {
     "name": "stdout",
     "output_type": "stream",
     "text": [
      "                                     low_wage_jobs  unemployment_rate\n",
      "major_category                                                       \n",
      "Agriculture & Natural Resources         789.900000           0.056328\n",
      "Arts                                   7514.500000           0.090173\n",
      "Biology & Life Science                 3053.000000           0.060918\n",
      "Business                               9752.923077           0.071064\n",
      "Communications & Journalism           12398.750000           0.075538\n",
      "Computers & Mathematics                1466.909091           0.084256\n",
      "Education                              2554.375000           0.051702\n",
      "Engineering                             864.793103           0.063334\n",
      "Health                                 2605.833333           0.065920\n",
      "Humanities & Liberal Arts              6282.666667           0.081008\n",
      "Industrial Arts & Consumer Services    3798.571429           0.048071\n",
      "Interdisciplinary                      1061.000000           0.070861\n",
      "Law & Public Policy                    4144.000000           0.090805\n",
      "Physical Sciences                      1407.800000           0.046511\n",
      "Psychology & Social Work               6249.555556           0.072065\n",
      "Social Science                         6020.000000           0.095729\n"
     ]
    }
   ],
   "source": [
    "# Find average unemployment rate and number of low wage jobs of each major category\n",
    "dept_stats = recent_grads.groupby(['major_category'])['low_wage_jobs', 'unemployment_rate'].mean()\n",
    "print(dept_stats)"
   ]
  },
  {
   "cell_type": "markdown",
   "metadata": {},
   "source": [
    "----\n",
    "### 6.1.2 重新定義新欄\n",
    ">- 分別在等號左邊打欄的名稱 “low_wage_jobs” 和 “unemployment_rate”\n",
    ">\n",
    ">- 在等號右邊取值, 從上面的“dept_stats”裡分別取出以定義好的 “low_wage_jobs” 和 “unemployment_rate”"
   ]
  },
  {
   "cell_type": "code",
   "execution_count": 39,
   "metadata": {},
   "outputs": [],
   "source": [
    "low_wage_jobs = dept_stats['low_wage_jobs']\n",
    "unemployment_rate = dept_stats['unemployment_rate']"
   ]
  },
  {
   "cell_type": "markdown",
   "metadata": {},
   "source": [
    "----\n",
    "### 6.2 製圖 點狀圖\n",
    ">- 導入模組：matplotlib.pyplot\n",
    ">\n",
    ">- 設定 x 軸為：unemployment_rate, y 軸為：y=low_wage_jobs\n",
    ">\n",
    ">- 設定名稱：x 軸：Unemployment rate, y 軸為：Low pay jobs\n",
    ">\n",
    ">- 在用函數 show 把圖表列出來"
   ]
  },
  {
   "cell_type": "code",
   "execution_count": 40,
   "metadata": {},
   "outputs": [
    {
     "data": {
      "image/png": "[encoded data removed]",
      "text/plain": [
       "<Figure size 432x288 with 1 Axes>"
      ]
     },
     "metadata": {
      "needs_background": "light"
     },
     "output_type": "display_data"
    }
   ],
   "source": [
    "# Import matplotlib\n",
    "import matplotlib.pyplot as plt\n",
    "\n",
    "# Create scatter plot\n",
    "plt.scatter(x=unemployment_rate, y=low_wage_jobs)\n",
    "\n",
    "# Label x axis\n",
    "plt.xlabel('Unemployment rate')\n",
    "\n",
    "# Label y axis\n",
    "plt.ylabel('Low pay jobs')\n",
    "\n",
    "# Display the graph \n",
    "plt.show()\n"
   ]
  },
  {
   "cell_type": "markdown",
   "metadata": {},
   "source": [
    "#### 我們可以將 x 軸和 y 軸放在同一個式子中畫圖\n",
    ">- kind 等號的右邊放的是圖形的名稱, 可以依照不同的資料型態來畫最適合它的圖形"
   ]
  },
  {
   "cell_type": "code",
   "execution_count": 41,
   "metadata": {},
   "outputs": [
    {
     "data": {
      "image/png": "[encoded data removed]",
      "text/plain": [
       "<Figure size 432x288 with 1 Axes>"
      ]
     },
     "metadata": {
      "needs_background": "light"
     },
     "output_type": "display_data"
    }
   ],
   "source": [
    "# Import matplotlib and pandas\n",
    "import matplotlib.pyplot as plt\n",
    "import pandas as pd\n",
    "\n",
    "# Create scatter plot\n",
    "dept_stats.plot(kind='bar', x='unemployment_rate', y='low_wage_jobs')\n",
    "plt.show()"
   ]
  },
  {
   "cell_type": "markdown",
   "metadata": {},
   "source": [
    "----\n",
    "### 6.3 顏色、標示設定\n",
    "    內建系統所設定的顏色或圖案你可能不喜歡, 你可以依照你的偏好去設定你喜歡的顏色及標示的樣式\n",
    ">- 使用模組 pandas 裡的函數 dept_stats 重新定義\n",
    "----\n",
    "    \n",
    "    下圖的結果與圖一做比較可以明顯看出來, 圖二的點已經變成紅色三角形了。"
   ]
  },
  {
   "cell_type": "code",
   "execution_count": 42,
   "metadata": {},
   "outputs": [
    {
     "data": {
      "image/png": "[encoded data removed]",
      "text/plain": [
       "<Figure size 432x288 with 1 Axes>"
      ]
     },
     "metadata": {
      "needs_background": "light"
     },
     "output_type": "display_data"
    }
   ],
   "source": [
    "# Plot the red and triangle shaped scatter plot  \n",
    "plt.scatter(dept_stats['unemployment_rate'], dept_stats['low_wage_jobs'], color = 'r', marker = \"^\")\n",
    "\n",
    "# Display the visualization\n",
    "plt.show()\n"
   ]
  },
  {
   "cell_type": "markdown",
   "metadata": {},
   "source": [
    "----\n",
    "### 6.4.1 長條圖( 一條 )\n",
    ">假如今天我們想知道在 non_college_jobs 的情況下, 從 major_category 畢業的學生數有多少，\n",
    ">\n",
    ">所以我們在 non_college_jobs 和 major_category 之間畫長條圖。"
   ]
  },
  {
   "cell_type": "code",
   "execution_count": 43,
   "metadata": {},
   "outputs": [
    {
     "data": {
      "image/png": "[encoded data removed]",
      "text/plain": [
       "<Figure size 432x288 with 1 Axes>"
      ]
     },
     "metadata": {
      "needs_background": "light"
     },
     "output_type": "display_data"
    }
   ],
   "source": [
    "# DataFrame of non-college job sums\n",
    "df = recent_grads.groupby(['major_category']).non_college_jobs.sum()\n",
    "\n",
    "# 這種形式也可以\n",
    "df = recent_grads.groupby(by = \"major_category\").non_college_jobs.sum()\n",
    "\n",
    "# Plot bar chart\n",
    "df.plot(kind = \"bar\")\n",
    "\n",
    "# Show graph\n",
    "plt.show()"
   ]
  },
  {
   "cell_type": "markdown",
   "metadata": {},
   "source": [
    "---\n",
    "### 6.4.2 長條圖( 兩條 )\n",
    "> 上圖為 non_college_jobs 與 major_category, \n",
    ">\n",
    "> 現在我們想要 non_college_jobs 和 college_jobs 同時對 major_category 的比較直條圖,\n",
    ">\n",
    "> 所以我們分別選出這三個欄來畫圖。"
   ]
  },
  {
   "cell_type": "code",
   "execution_count": 44,
   "metadata": {},
   "outputs": [
    {
     "data": {
      "image/png": "[encoded data removed]",
      "text/plain": [
       "<Figure size 432x288 with 1 Axes>"
      ]
     },
     "metadata": {
      "needs_background": "light"
     },
     "output_type": "display_data"
    }
   ],
   "source": [
    "# DataFrame of college and non-college job sums\n",
    "df1 = recent_grads.groupby(['major_category'])['college_jobs','non_college_jobs'].sum()\n",
    "\n",
    "# Plot bar chart\n",
    "df1.plot(kind = \"bar\")\n",
    "\n",
    "# Show graph\n",
    "plt.show()"
   ]
  },
  {
   "cell_type": "markdown",
   "metadata": {},
   "source": [
    "----\n",
    "### 6.5 取出遺漏值\n",
    ">- 使用函數 dropna 來找出是否有遺漏值\n",
    ">\n",
    ">- axis = 0：軸等於零的時候\n",
    ">\n",
    ">- 把他代表的位子數字列出來"
   ]
  },
  {
   "cell_type": "code",
   "execution_count": 45,
   "metadata": {},
   "outputs": [
    {
     "name": "stdout",
     "output_type": "stream",
     "text": [
      "3979\n",
      "3956\n"
     ]
    }
   ],
   "source": [
    "# Print the size of the DataFrame\n",
    "print(recent_grads.size)\n",
    "\n",
    "# Drop all rows with a missing value\n",
    "\n",
    "#columns = recent_grads.columns\n",
    "#for column in columns:\n",
    "#    recent_grads.loc[recent_grads[column] == 'UN', column] = np.nan\n",
    "    \n",
    "recent_grads.dropna(axis = 0, inplace =True)\n",
    "# Print the size of the DataFrame\n",
    "print(recent_grads.size)"
   ]
  },
  {
   "cell_type": "markdown",
   "metadata": {},
   "source": [
    "----\n",
    "## 6.6 範例說明\n",
    "### 6.6.1 分別對 ['median'], ['p25th'], ['p75th'] 做計算"
   ]
  },
  {
   "cell_type": "code",
   "execution_count": 46,
   "metadata": {},
   "outputs": [
    {
     "name": "stdout",
     "output_type": "stream",
     "text": [
      "                                        median      p25th      p75th\n",
      "major_category                                                      \n",
      "Agriculture & Natural Resources      35.111111  24.666667  45.566667\n",
      "Arts                                 33.062500  21.962500  43.662500\n",
      "Biology & Life Science               36.421429  26.614286  46.085714\n",
      "Business                             43.538462  33.461538  54.846154\n",
      "Communications & Journalism          34.500000  26.250000  44.975000\n",
      "Computers & Mathematics              42.745455  29.290909  58.090909\n",
      "Education                            32.350000  26.590625  38.562500\n",
      "Engineering                          57.382759  41.555172  70.448276\n",
      "Health                               36.825000  26.166667  50.250000\n",
      "Humanities & Liberal Arts            31.913333  23.493333  42.073333\n",
      "Industrial Arts & Consumer Services  36.342857  26.771429  45.142857\n",
      "Interdisciplinary                    35.000000  25.000000  44.000000\n",
      "Law & Public Policy                  42.200000  32.640000  55.000000\n",
      "Physical Sciences                    41.890000  28.350000  57.290000\n",
      "Psychology & Social Work             30.100000  25.333333  38.777778\n",
      "Social Science                       37.344444  28.355556  50.111111\n"
     ]
    }
   ],
   "source": [
    "# Convert to numeric and divide by 1000\n",
    "recent_grads['median'] = pd.to_numeric(recent_grads['median']) / 1000\n",
    "recent_grads['p25th'] = pd.to_numeric(recent_grads['p25th']) / 1000\n",
    "recent_grads['p75th'] = pd.to_numeric(recent_grads['p75th']) / 1000\n",
    "\n",
    "# Select averages by major category\n",
    "columns = ['median', 'p25th', 'p75th']\n",
    "sal_quantiles = recent_grads.groupby(['major_category'])[columns].mean()\n",
    "print(sal_quantiles)"
   ]
  },
  {
   "cell_type": "markdown",
   "metadata": {},
   "source": [
    "----\n",
    "###  6.6.2 繪圖\n",
    "\n",
    "> 由於.plot('bar')會自動把Dataframe.index帶進 X 軸, \n",
    ">\n",
    "> 但是一般的.plot( default為直線圖 ), X 軸中不會包含Dataframe.index\n",
    ">\n",
    "請見下圖：\n"
   ]
  },
  {
   "cell_type": "code",
   "execution_count": 47,
   "metadata": {},
   "outputs": [
    {
     "data": {
      "image/png": "[encoded data removed]",
      "text/plain": [
       "<Figure size 432x288 with 1 Axes>"
      ]
     },
     "metadata": {
      "needs_background": "light"
     },
     "output_type": "display_data"
    },
    {
     "data": {
      "image/png": "[encoded data removed]",
      "text/plain": [
       "<Figure size 432x288 with 1 Axes>"
      ]
     },
     "metadata": {
      "needs_background": "light"
     },
     "output_type": "display_data"
    }
   ],
   "source": [
    "# Plot bar chart\n",
    "df.plot(kind = \"bar\")\n",
    "# Show graph\n",
    "plt.show()\n",
    "\n",
    "# 一般折線圖\n",
    "df.plot()\n",
    "# Show graph\n",
    "plt.show()"
   ]
  },
  {
   "cell_type": "markdown",
   "metadata": {},
   "source": [
    "所以當我們要畫折線圖, 又希望x軸的標示清楚時, 必須自己建立Dataframe.index\n",
    "\n",
    "#### 使用 plt.xticks( ), 建立x軸的標記, 請見以下差異\n"
   ]
  },
  {
   "cell_type": "code",
   "execution_count": 48,
   "metadata": {},
   "outputs": [
    {
     "data": {
      "image/png": "[encoded data removed]",
      "text/plain": [
       "<Figure size 432x288 with 1 Axes>"
      ]
     },
     "metadata": {
      "needs_background": "light"
     },
     "output_type": "display_data"
    }
   ],
   "source": [
    "\n",
    "# Plot the data\n",
    "sal_quantiles.plot()\n",
    "\n",
    "# 建立x軸的標示\n",
    "plt.xticks(\n",
    "    np.arange(len(sal_quantiles.index)),\n",
    "    sal_quantiles.index, \n",
    "    rotation='vertical')\n",
    "\n",
    "# Show the plot\n",
    "plt.show()\n"
   ]
  },
  {
   "cell_type": "markdown",
   "metadata": {},
   "source": [
    "\n",
    "\n",
    "##### 加入參數subplots=True, 把變數分別畫在不同圖上, 但想用同一個框架\n",
    "\n"
   ]
  },
  {
   "cell_type": "code",
   "execution_count": 49,
   "metadata": {},
   "outputs": [
    {
     "data": {
      "image/png": "[encoded data removed]",
      "text/plain": [
       "<Figure size 432x288 with 3 Axes>"
      ]
     },
     "metadata": {
      "needs_background": "light"
     },
     "output_type": "display_data"
    }
   ],
   "source": [
    "\n",
    "# Plot the data\n",
    "sal_quantiles.plot(subplots=True)\n",
    "\n",
    "# 建立x軸的標示\n",
    "plt.xticks(\n",
    "    np.arange(len(sal_quantiles.index)),\n",
    "    sal_quantiles.index, \n",
    "    rotation='vertical')\n",
    "\n",
    "# Show the plot\n",
    "plt.show()"
   ]
  }
 ],
 "metadata": {
  "kernelspec": {
   "display_name": "Python 3",
   "language": "python",
   "name": "python3"
  },
  "language_info": {
   "codemirror_mode": {
    "name": "ipython",
    "version": 3
   },
   "file_extension": ".py",
   "mimetype": "text/x-python",
   "name": "python",
   "nbconvert_exporter": "python",
   "pygments_lexer": "ipython3",
   "version": "3.7.1"
  }
 },
 "nbformat": 4,
 "nbformat_minor": 2
}
